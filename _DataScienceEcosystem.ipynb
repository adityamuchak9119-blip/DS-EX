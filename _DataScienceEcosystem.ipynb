{
 "cells": [
  {
   "cell_type": "markdown",
   "id": "e7041d6f-9fec-497e-a9a7-3812b3426ddb",
   "metadata": {},
   "source": [
    "#Data Science Tools and Ecosystem"
   ]
  },
  {
   "cell_type": "markdown",
   "id": "59581828-f1ab-429b-92b7-f88c1f4b0fe8",
   "metadata": {},
   "source": [
    "In this notebook, Data Science Tools and Ecosystem are summarized."
   ]
  },
  {
   "cell_type": "markdown",
   "id": "3f8e4faa-e38e-4d2a-a7bd-e73e0908764d",
   "metadata": {},
   "source": [
    "some key take aways from this tools of data science course \n",
    "we learnt how to use r studio, and jupyter and and also learnt about how git github works how to plot using ggplot anol\n",
    "* R\n",
    "* R STUDIO\n",
    "* PANDAS\n",
    "* NUMPY\n",
    "* JUPYTER"
   ]
  },
  {
   "cell_type": "markdown",
   "id": "bc0bb900-b8a1-4f70-ae50-e93098fbecc8",
   "metadata": {},
   "source": [
    "Some of the popular languages that Data Scientists use are:\n",
    "1. Python\n",
    "2. R\n",
    "3. SQL"
   ]
  },
  {
   "cell_type": "markdown",
   "id": "f4a69d43-2c81-49e9-94b8-1998293456f5",
   "metadata": {},
   "source": [
    "Some of the commonly used libraries used by Data Scientists include:\n",
    "1. numpy\n",
    "2. pandas\n",
    "3. sci-kit learn "
   ]
  },
  {
   "cell_type": "markdown",
   "id": "fd8f05e0-c3d8-4320-a038-ea47c7ae454e",
   "metadata": {},
   "source": [
    "| Data Science Tools |\n",
    "|--------------------|\n",
    "| Jupyter Notebook   |\n",
    "| RStudio            |\n",
    "| Apache Spark       |\n"
   ]
  },
  {
   "cell_type": "markdown",
   "id": "b70d10a0-3df0-4cb4-a357-1cb66bd9ee5e",
   "metadata": {},
   "source": [
    "###Below are a few examples of evaluating arithmetic expressions in Python.\n",
    "3+4\n",
    "66+9\n",
    "4+6\n"
   ]
  },
  {
   "cell_type": "code",
   "execution_count": 8,
   "id": "2518729c-0162-414e-a403-f0ec09100eed",
   "metadata": {},
   "outputs": [
    {
     "data": {
      "text/plain": [
       "17"
      ]
     },
     "execution_count": 8,
     "metadata": {},
     "output_type": "execute_result"
    }
   ],
   "source": [
    "# *This a simple arithmetic expression to mutiply then add integers.*\n",
    "(3*4)+5"
   ]
  },
  {
   "cell_type": "code",
   "execution_count": 10,
   "id": "fbba97b2-25ab-4aa3-93fa-3f72d0a2bff7",
   "metadata": {},
   "outputs": [
    {
     "name": "stdout",
     "output_type": "stream",
     "text": [
      "3.3333333333333335\n"
     ]
    }
   ],
   "source": [
    "#This will convert 200 minutes to hours by diving by 60\n",
    "hr=200/60\n",
    "print(hr)"
   ]
  },
  {
   "cell_type": "markdown",
   "id": "c807fc38-b794-4987-b62a-8abbf62140bd",
   "metadata": {},
   "source": [
    "## AUTHOR\n",
    "ADITYA"
   ]
  },
  {
   "cell_type": "code",
   "execution_count": null,
   "id": "30b66ece-a35e-43bd-86fd-6d13be5039cf",
   "metadata": {},
   "outputs": [],
   "source": []
  }
 ],
 "metadata": {
  "kernelspec": {
   "display_name": "Python 3 (ipykernel)",
   "language": "python",
   "name": "python3"
  },
  "language_info": {
   "codemirror_mode": {
    "name": "ipython",
    "version": 3
   },
   "file_extension": ".py",
   "mimetype": "text/x-python",
   "name": "python",
   "nbconvert_exporter": "python",
   "pygments_lexer": "ipython3",
   "version": "3.13.7"
  }
 },
 "nbformat": 4,
 "nbformat_minor": 5
}
